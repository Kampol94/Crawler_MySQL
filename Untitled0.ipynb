{
  "nbformat": 4,
  "nbformat_minor": 0,
  "metadata": {
    "colab": {
      "name": "Untitled0.ipynb",
      "version": "0.3.2",
      "provenance": [],
      "collapsed_sections": [],
      "include_colab_link": true
    },
    "kernelspec": {
      "name": "python3",
      "display_name": "Python 3"
    }
  },
  "cells": [
    {
      "cell_type": "markdown",
      "metadata": {
        "id": "view-in-github",
        "colab_type": "text"
      },
      "source": [
        "<a href=\"https://colab.research.google.com/github/Kampol94/Crawler_MySQL/blob/master/Untitled0.ipynb\" target=\"_parent\"><img src=\"https://colab.research.google.com/assets/colab-badge.svg\" alt=\"Open In Colab\"/></a>"
      ]
    },
    {
      "cell_type": "code",
      "metadata": {
        "id": "_K3xIjmi-V-C",
        "colab_type": "code",
        "colab": {
          "base_uri": "https://localhost:8080/",
          "height": 496
        },
        "outputId": "5b7c3ff5-cd5e-4943-df3b-c9c1ff6cbf79"
      },
      "source": [
        "import numpy\n",
        "from keras.datasets import mnist\n",
        "from keras.models import Sequential\n",
        "from keras.layers import Dense\n",
        "from keras.layers import Dropout\n",
        "from keras.utils import np_utils\n",
        "\n",
        "# fix random seed for reproducibility\n",
        "seed = 7\n",
        "numpy.random.seed(seed)\n",
        "# load data\n",
        "(X_train, y_train), (X_test, y_test) = mnist.load_data()\n",
        "\n",
        "# flatten 28*28 images to a 784 vector for each image\n",
        "num_pixels = X_train.shape[1] * X_train.shape[2]\n",
        "X_train = X_train.reshape(X_train.shape[0], num_pixels).astype('float32')\n",
        "X_test = X_test.reshape(X_test.shape[0], num_pixels).astype('float32')\n",
        "\n",
        "# normalize inputs from 0-255 to 0-1\n",
        "X_train = X_train / 255\n",
        "X_test = X_test / 255\n",
        "\n",
        "# one hot encode outputs\n",
        "y_train = np_utils.to_categorical(y_train)\n",
        "y_test = np_utils.to_categorical(y_test)\n",
        "num_classes = y_test.shape[1]\n",
        "\n",
        "\n",
        "# define baseline model\n",
        "def baseline_model():\n",
        "\t# create model\n",
        "\tmodel = Sequential()\n",
        "\tmodel.add(Dense(num_pixels, input_dim=num_pixels, kernel_initializer='normal', activation='relu'))\n",
        "\tmodel.add(Dense(num_classes, kernel_initializer='normal', activation='softmax'))\n",
        "\t# Compile model\n",
        "\tmodel.compile(loss='categorical_crossentropy', optimizer='adam', metrics=['accuracy'])\n",
        "\treturn model\n",
        "\n",
        "# build the model\n",
        "model = baseline_model()\n",
        "# Fit the model\n",
        "model.fit(X_train, y_train, validation_data=(X_test, y_test), epochs=10, batch_size=200, verbose=2)\n",
        "# Final evaluation of the model\n",
        "scores = model.evaluate(X_test, y_test, verbose=0)\n",
        "print(\"Baseline Error: %.2f%%\" % (100-scores[1]*100))\n",
        "\n"
      ],
      "execution_count": 8,
      "outputs": [
        {
          "output_type": "stream",
          "text": [
            "W0719 16:31:26.110934 140537197012864 deprecation.py:323] From /usr/local/lib/python3.6/dist-packages/tensorflow/python/ops/math_grad.py:1250: add_dispatch_support.<locals>.wrapper (from tensorflow.python.ops.array_ops) is deprecated and will be removed in a future version.\n",
            "Instructions for updating:\n",
            "Use tf.where in 2.0, which has the same broadcast rule as np.where\n",
            "W0719 16:31:26.164093 140537197012864 deprecation_wrapper.py:119] From /usr/local/lib/python3.6/dist-packages/keras/backend/tensorflow_backend.py:986: The name tf.assign_add is deprecated. Please use tf.compat.v1.assign_add instead.\n",
            "\n"
          ],
          "name": "stderr"
        },
        {
          "output_type": "stream",
          "text": [
            "Train on 60000 samples, validate on 10000 samples\n",
            "Epoch 1/10\n",
            " - 7s - loss: 0.2811 - acc: 0.9206 - val_loss: 0.1414 - val_acc: 0.9570\n",
            "Epoch 2/10\n",
            " - 6s - loss: 0.1116 - acc: 0.9678 - val_loss: 0.0916 - val_acc: 0.9711\n",
            "Epoch 3/10\n",
            " - 6s - loss: 0.0716 - acc: 0.9798 - val_loss: 0.0778 - val_acc: 0.9776\n",
            "Epoch 4/10\n",
            " - 6s - loss: 0.0504 - acc: 0.9859 - val_loss: 0.0743 - val_acc: 0.9769\n",
            "Epoch 5/10\n",
            " - 6s - loss: 0.0373 - acc: 0.9891 - val_loss: 0.0691 - val_acc: 0.9784\n",
            "Epoch 6/10\n",
            " - 6s - loss: 0.0268 - acc: 0.9928 - val_loss: 0.0622 - val_acc: 0.9803\n",
            "Epoch 7/10\n",
            " - 6s - loss: 0.0203 - acc: 0.9949 - val_loss: 0.0619 - val_acc: 0.9813\n",
            "Epoch 8/10\n",
            " - 6s - loss: 0.0139 - acc: 0.9971 - val_loss: 0.0629 - val_acc: 0.9803\n",
            "Epoch 9/10\n",
            " - 6s - loss: 0.0107 - acc: 0.9978 - val_loss: 0.0582 - val_acc: 0.9817\n",
            "Epoch 10/10\n",
            " - 6s - loss: 0.0079 - acc: 0.9985 - val_loss: 0.0590 - val_acc: 0.9816\n",
            "Baseline Error: 1.84%\n"
          ],
          "name": "stdout"
        }
      ]
    }
  ]
}